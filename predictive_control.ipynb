{
 "cells": [
  {
   "cell_type": "code",
   "execution_count": 251,
   "metadata": {},
   "outputs": [],
   "source": [
    "import numpy as np\n",
    "from qpsolvers import solve_qp\n",
    "from scipy.linalg import block_diag"
   ]
  },
  {
   "cell_type": "markdown",
   "metadata": {},
   "source": [
    "# Introduction"
   ]
  },
  {
   "cell_type": "markdown",
   "metadata": {
    "vscode": {
     "languageId": "plaintext"
    }
   },
   "source": [
    "Control input to the plant is the solution to an optimisation problem, computed at each discrete time step.\n",
    "\n",
    "This allows us to include constraints, acheive set points closer to optimal while sacrificing robustness and now requirig full state f/b as opposed to traditional methods using output feedback.\n",
    "\n",
    "- No need for closed-form solution\n",
    "- Flexible choice of cost function\n",
    "- Constrained ooptimisation as opposed to including it within the cost function\n",
    "- Non-linear prediction models are possible"
   ]
  },
  {
   "cell_type": "markdown",
   "metadata": {},
   "source": [
    "# Unconstrained Predictive Control\n",
    "\n",
    "Given an initial state $x = x(k)$, compute a finite horizon input sequence\n",
    "\n",
    "$$\\mathbf{u} = \\{u_0, u_1, ..., u_{N-1} \\}$$\n",
    "\n",
    "that minimises\n",
    "\n",
    "$$ V(x, \\mathbf{u}) = x_N^T P x_N + \\sum^{N-1}_{i=0} (x_i^T Q x_i + u_i^T R u_i) $$\n",
    "\n",
    "where $x_i$ is the prediction of $x_{k + i}$ with $x_0 = x(k)$\n",
    "\n",
    "$$V^*(x) \\triangleq \\min_u V(x,u)$$\n",
    "\n",
    "The optimal input sequence is defined as:\n",
    "\n",
    "$$ \\begin{align*}\n",
    "u^*(x) &\\triangleq \\arg\\min V(x,u) \\\\\n",
    " &= \\{u_0^*, u_1^*, ..., u_{N-1}^*\\}\n",
    " \\end{align*}$$\n",
    "\n",
    "The optimal solution is hence given by \n",
    "\n",
    "\n",
    "$$ \\begin{align*}\n",
    " u(k) &= u^*_0(x(k)) \\\\\n",
    " &= -(R + B^T X_1 B)^{-1} B^T x_{k+1} A x(k)  \\\\\n",
    "      & = K_{RHC} x(k) \n",
    "\\end{align*}$$\n",
    "\n",
    "The parameters are Q, R, P and N. Refer to [`optimal_control.ipynb`](optimal_control.ipynb) for more details on Discrete-time Finite Horizon LQR that this is based on."
   ]
  },
  {
   "cell_type": "markdown",
   "metadata": {},
   "source": [
    "We can now explore stability characteristics by:\n",
    "\n",
    "1. Fix $Q = P = I$\n",
    "2. Compute $\\rho(A + BK_{RHC})$ over a grid of R and N. \n",
    "3. Indicate unstable areas (Eignevalues present outside the unit circle)"
   ]
  },
  {
   "cell_type": "markdown",
   "metadata": {},
   "source": [
    "## Stability Theorem"
   ]
  },
  {
   "cell_type": "markdown",
   "metadata": {},
   "source": [
    "The findings of the above section drive us to formulate a method to ensure stability of the control."
   ]
  },
  {
   "cell_type": "markdown",
   "metadata": {},
   "source": [
    "1. Q and R are positive definite\n",
    "2. $(A + BK)^T P(A + BK) - P \\leq -Q - K^TRK$"
   ]
  },
  {
   "cell_type": "markdown",
   "metadata": {},
   "source": [
    "### Proof"
   ]
  },
  {
   "cell_type": "markdown",
   "metadata": {},
   "source": [
    "Consider the optimal input\n",
    "\n",
    "$$\\mathbf{u}^* = \\{u_0^*, u_1^*, ..., u_{N-1}^* \\}$$\n",
    "\n",
    "apply $u_0^*$ and add $Kx^*_N$ to the tail, where $\\rho(A + BK) < 1$\n",
    "\n",
    "$$\\mathbf{\\tilde{u}} = \\{u_1^*, ..., u_{N-1}^*, Kx^*_N \\}$$"
   ]
  },
  {
   "cell_type": "markdown",
   "metadata": {},
   "source": [
    "$$\\begin{align*}\n",
    "V^*(x(k+1)) - V^*(x(k)) &\\leq V(x(k+1), \\tilde{u}(x)) - V^*(x(k)) \\\\\n",
    "&= x_{N+1}^T Px_{N+1} + \\sum_{i=1}^N \\left(x_i^T Qx_i + u_i^T Ru_i\\right) - x_0^T Px_N - \\sum_{i=0}^{N-1} \\left(x_i^T Qx_i + u_i^T Ru_i\\right) \\\\\n",
    "&= x_N^T(A + BK)^T P(A + BK)x_N + \\left(x_N^T Qx_N + x_N^T K^T RKx_N\\right) \\\\\n",
    "&\\quad - x_N^T Px_N - \\left(x_0^T Qx_0 + u_0^T Ru_0\\right) \\\\\n",
    "&\\leq x_N^T((A + BK)^T P(A + BK) - P + Q + K^T RK)x_N - x_0^T Qx_0 \\leq -x_0^T Qx_0\n",
    "\\end{align*}$$\n",
    "\n",
    "so \n",
    "\n",
    "$$ V^*(x(k+1)) \\leq V^*(x(k)) - x(k)^T Q x(k) $$\n",
    "\n",
    "This clearly shows that \n",
    "\n",
    "$$\\lim_{k \\to \\infty} V^*(x(k)) = 0 \\text{ and so } \\lim_{k \\to \\infty} x(k) = 0$$"
   ]
  },
  {
   "cell_type": "markdown",
   "metadata": {},
   "source": [
    "# Value Function as Terminal Cost"
   ]
  },
  {
   "cell_type": "markdown",
   "metadata": {},
   "source": [
    "It can be simply shown that setting the terminal cost P to equal the solution of the **DARE**, sets $X_0 = X_1 = ... = X_N = X = P$, with optimal cost $V^*(x) = x^T X_0 x $."
   ]
  },
  {
   "cell_type": "markdown",
   "metadata": {},
   "source": [
    "The solution is hence independent of N\n",
    "\n",
    "$$ V^*(x) = \\min_u \\left(  x_N^TXx_N + \\sum^{N-1}_{i=0} x_i^T Q x_i u_i^T R u_i \\right) = x^T X x   $$\n",
    "\n",
    "for any N from 0 to $ \\infty $."
   ]
  },
  {
   "cell_type": "markdown",
   "metadata": {},
   "source": [
    "# Constrained Predictive Optimisation"
   ]
  },
  {
   "cell_type": "markdown",
   "metadata": {},
   "source": [
    "The setup replicates that of the unconstrained version, but now with the addition of linear constraints\n",
    "\n",
    "$$\\begin{align*}\n",
    "M_i x_i + E_i u_i &\\leq b_i \\quad \\text{for all } i = 0, 1, ..., N-1 \\\\\n",
    "M_N x_N &\\leq b_N\n",
    "\\end{align*}$$\n",
    "\n",
    "suppose we have the following constraints\n",
    "\n",
    "$$\\begin{align*}\n",
    "u_{low} \\leq u_i \\leq u_{high}, \\quad &i = 0, 1, ..., N-1 \\\\\n",
    "y_{low} \\leq y_i \\leq y_{high}, \\quad &i = 0, 1, ..., N\n",
    "\\end{align*}$$\n",
    "\n",
    "where y_i is the observed variable given by $y_i = Cx_i$\n",
    "\n",
    "defining\n",
    "\n",
    "$$M_i \\triangleq \\begin{bmatrix} 0 \\\\ 0 \\\\ -C \\\\ C \\end{bmatrix}, \\quad E_i \\triangleq \\begin{bmatrix} -I \\\\ +I \\\\ 0 \\\\ 0 \\end{bmatrix}, \\quad b_i \\triangleq \\begin{bmatrix} -u_{low} \\\\ +u_{high} \\\\ -y_{low} \\\\ +y_{high} \\end{bmatrix} \\quad \\text{for } i = 0, 1, ..., N-1$$\n",
    "\n",
    "and\n",
    "\n",
    "$$M_N \\triangleq \\begin{bmatrix} -C \\\\ +C \\end{bmatrix}, \\quad b_N \\triangleq \\begin{bmatrix} -y_{low} \\\\ +y_{high} \\end{bmatrix}.$$\n",
    "\n",
    "altogether this gives\n",
    "\n",
    "$$\\begin{bmatrix} \n",
    "E_0 & 0 & 0 & 0 & \\cdots & 0 & 0 \\\\\n",
    "0 & M_1 & E_1 & 0 & \\cdots & 0 & 0 \\\\\n",
    "0 & 0 & 0 & M_2 & \\cdots & 0 & 0 \\\\\n",
    "\\vdots & \\vdots & \\vdots & \\vdots & \\ddots & \\vdots & \\vdots \\\\\n",
    "0 & 0 & 0 & 0 & \\cdots & M_{N-1} & E_{N-1} \\\\\n",
    "0 & 0 & 0 & 0 & \\cdots & 0 & M_N\n",
    "\\end{bmatrix}\n",
    "\\begin{bmatrix}\n",
    "u_0 \\\\\n",
    "x_1 \\\\\n",
    "u_1 \\\\\n",
    "x_2 \\\\\n",
    "\\vdots \\\\\n",
    "u_{N-1} \\\\\n",
    "x_N\n",
    "\\end{bmatrix} \\leq \n",
    "\\begin{bmatrix}\n",
    "-M_0x(k) + b_0 \\\\\n",
    "b_1 \\\\\n",
    "b_2 \\\\\n",
    "\\vdots \\\\\n",
    "b_{N-1} \\\\\n",
    "b_N\n",
    "\\end{bmatrix}$$\n",
    "\n",
    "$$ \\mathcal{G} \\theta \\leq h $$"
   ]
  },
  {
   "cell_type": "markdown",
   "metadata": {},
   "source": [
    "This gives\n",
    "\n",
    "$$ V(x, \\theta) = x^T Q x + \\theta ^T \\Omega \\theta $$\n",
    "\n",
    "where\n",
    "\n",
    "$$ \\Omega =  \\begin{bmatrix}\n",
    "R & 0 & 0 & 0 & \\cdots & 0 & 0 \\\\\n",
    "0 & Q & 0 & 0 & \\cdots & 0 & 0 \\\\\n",
    "0 & 0 & R & 0 & \\cdots & 0 & 0 \\\\\n",
    "0 & 0 & 0 & Q & \\cdots & 0 & 0 \\\\\n",
    "\\vdots & \\vdots & \\vdots & \\vdots & \\ddots & \\vdots & \\vdots \\\\\n",
    "0 & 0 & 0 & 0 & \\cdots & R & 0 \\\\\n",
    "0 & 0 & 0 & 0 & \\cdots & 0 & P\n",
    "\\end{bmatrix}$$\n"
   ]
  },
  {
   "cell_type": "markdown",
   "metadata": {},
   "source": [
    "Finally dynamics are given by \n",
    "\n",
    "$$\\begin{bmatrix}\n",
    "B & -I & 0 & 0 & \\cdots & 0 & 0 \\\\\n",
    "0 & A & B & -I & \\cdots & 0 & 0 \\\\\n",
    "0 & 0 & 0 & A & \\cdots & 0 & 0 \\\\\n",
    "\\vdots & \\vdots & \\vdots & \\vdots & \\ddots & \\vdots & \\vdots \\\\\n",
    "0 & 0 & 0 & 0 & \\cdots & B & -I\n",
    "\\end{bmatrix}\n",
    "\\begin{bmatrix}\n",
    "u_0 \\\\\n",
    "x_1 \\\\\n",
    "u_1 \\\\\n",
    "x_2 \\\\\n",
    "\\vdots \\\\\n",
    "u_{N-1} \\\\\n",
    "x_N\n",
    "\\end{bmatrix} = \n",
    "\\begin{bmatrix}\n",
    "-Ax(k) \\\\\n",
    "0 \\\\\n",
    "0 \\\\\n",
    "\\vdots \\\\\n",
    "0\n",
    "\\end{bmatrix}$$\n",
    "\n",
    "$$\\mathcal{A}\\theta = c$$"
   ]
  },
  {
   "cell_type": "markdown",
   "metadata": {},
   "source": [
    "This can now be posed as a Quadratic Prograp (see [`Practical_Optimisation`](https://github.com/ofs416/Practical_Optimisation)) and simply inputted into a solver.\n",
    "\n",
    "$$\\begin{align*}\n",
    "\\min_\\theta \\quad & \\theta^T \\Omega\\theta \\\\\n",
    "\\text{subject to:} \\quad & \\mathcal{G}\\theta \\leq h \\\\\n",
    "& \\mathcal{A}\\theta = c\n",
    "\\end{align*}$$\n",
    "\n",
    "with a unique solution given by $\\Omega > 0$."
   ]
  },
  {
   "cell_type": "markdown",
   "metadata": {},
   "source": [
    "## Example: Double Integrator"
   ]
  },
  {
   "cell_type": "markdown",
   "metadata": {},
   "source": [
    "$$ A = \n",
    "\\begin{bmatrix}\n",
    "1 & 1 \\\\\n",
    "0 & 1 \n",
    "\\end{bmatrix} \\text{ , } B = \n",
    "\\begin{bmatrix}\n",
    "0.5 \\\\\n",
    "1 \n",
    "\\end{bmatrix}$$"
   ]
  },
  {
   "cell_type": "code",
   "execution_count": 252,
   "metadata": {},
   "outputs": [],
   "source": [
    "A = np.array([[1, 1], [0, 1]])\n",
    "B = np.array([[0.5], [1]])"
   ]
  },
  {
   "cell_type": "markdown",
   "metadata": {},
   "source": [
    "$$ |u| \\leq 1 \\text{ , } N = 20 $$\n",
    "\n",
    "$$ \\quad E \\triangleq \\begin{bmatrix} -I \\\\ +I \\end{bmatrix}, \\quad b \\triangleq \\begin{bmatrix} -1 \\\\ 1  \\end{bmatrix}$$\n"
   ]
  },
  {
   "cell_type": "code",
   "execution_count": 253,
   "metadata": {},
   "outputs": [],
   "source": [
    "C = np.zeros((2, 2))\n",
    "\n",
    "E = np.block([[-np.eye(2)], [np.eye(2)], [np.zeros_like(C)], [np.zeros_like(C)]])\n",
    "\n",
    "M = np.block([[np.zeros_like(C)], [np.zeros_like(C)], [-C], [C]])\n",
    "\n",
    "b = np.array([[-1], [1]])\n",
    "N = 20"
   ]
  },
  {
   "cell_type": "markdown",
   "metadata": {},
   "source": [
    "$$ Q = \n",
    "\\begin{bmatrix}\n",
    "1 & 0 \\\\\n",
    "0 & 0 \n",
    "\\end{bmatrix} \\text{ , } P = \n",
    "\\begin{bmatrix}\n",
    "2 & 1 \\\\\n",
    "1 & 1.5 \n",
    "\\end{bmatrix} \\text{ , } R = 1$$"
   ]
  },
  {
   "cell_type": "code",
   "execution_count": 254,
   "metadata": {},
   "outputs": [],
   "source": [
    "Q = np.array([[1, 0], [0, 0]])\n",
    "P = np.array([[2, 1], [1, 1.5]])\n",
    "R = 1.0"
   ]
  },
  {
   "cell_type": "markdown",
   "metadata": {},
   "source": [
    "Now we construct $\\Omega$, $\\mathcal{A}$, $\\mathcal{G}$, $h$ and $c$."
   ]
  },
  {
   "cell_type": "code",
   "execution_count": 255,
   "metadata": {},
   "outputs": [],
   "source": [
    "h = np.block([[b] for _ in range(N + 1)])\n",
    "\n",
    "G = block_diag(E, *([np.block([M, E])] * (N - 2)))\n",
    "\n",
    "Omega = block_diag(R, *([block_diag(Q, R)] * (N - 1)), P)\n",
    "\n",
    "A_cal = block_diag(*([np.block([B, np.eye(B.shape[0])])] * N)) + block_diag(\n",
    "    np.zeros_like(B),\n",
    "    *([np.block([A, np.zeros_like(B)])] * (N - 2)),\n",
    "    np.block([np.zeros_like(A), np.zeros_like(B), np.eye(B.shape[0])]),\n",
    ")"
   ]
  },
  {
   "cell_type": "code",
   "execution_count": 256,
   "metadata": {},
   "outputs": [],
   "source": [
    "x_k = np.array([[9], [11]])\n",
    "\n",
    "c = np.block([[-A @ x_k], [np.zeros((x_k.shape[0] * (N - 1), 1))]])"
   ]
  },
  {
   "cell_type": "code",
   "execution_count": 257,
   "metadata": {},
   "outputs": [
    {
     "data": {
      "text/plain": [
       "((40, 60), (40, 1), (152, 74), (42, 1), (60, 60))"
      ]
     },
     "execution_count": 257,
     "metadata": {},
     "output_type": "execute_result"
    }
   ],
   "source": [
    "A_cal.shape, c.shape, G.shape, h.shape, Omega.shape"
   ]
  }
 ],
 "metadata": {
  "kernelspec": {
   "display_name": ".venv",
   "language": "python",
   "name": "python3"
  },
  "language_info": {
   "codemirror_mode": {
    "name": "ipython",
    "version": 3
   },
   "file_extension": ".py",
   "mimetype": "text/x-python",
   "name": "python",
   "nbconvert_exporter": "python",
   "pygments_lexer": "ipython3",
   "version": "3.12.7"
  }
 },
 "nbformat": 4,
 "nbformat_minor": 2
}
