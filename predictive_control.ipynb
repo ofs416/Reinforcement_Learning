{
 "cells": [
  {
   "cell_type": "markdown",
   "metadata": {},
   "source": [
    "# Introduction"
   ]
  },
  {
   "cell_type": "markdown",
   "metadata": {
    "vscode": {
     "languageId": "plaintext"
    }
   },
   "source": [
    "Control input to the plant is the solution to an optimisation problem, computed at each discrete time step.\n",
    "\n",
    "This allows us to include constraints, acheive set points closer to optimal while sacrificing robustness and now requirig full state f/b as opposed to traditional methods using output feedback.\n",
    "\n",
    "- No need for closed-form solution\n",
    "- Flexible choice of cost function\n",
    "- Constrained ooptimisation as opposed to including it within the cost function\n",
    "- Non-linear prediction models are possible"
   ]
  },
  {
   "cell_type": "markdown",
   "metadata": {},
   "source": [
    "# Unconstrained Predictive Control\n",
    "\n",
    "Given an initial state $x = x(k)$, compute a finite horizon input sequence\n",
    "\n",
    "$$\\mathbf{u} = \\{u_0, u_1, ..., u_{N-1} \\}$$\n",
    "\n",
    "that minimises\n",
    "\n",
    "$$ V(x, \\mathbf{u}) = x_N^T P x_N + \\sum^{N-1}_{i=0} (x_i^T Q x_i + u_i^T R u_i) $$\n",
    "\n",
    "where $x_i$ is the prediction of $x_{k + i}$ with $x_0 = x(k)$\n",
    "\n",
    "$$V^*(x) \\triangleq \\min_u V(x,u)$$\n",
    "\n",
    "The optimal input sequence is defined as:\n",
    "\n",
    "$$ \\begin{align*}\n",
    "u^*(x) &\\triangleq \\arg\\min V(x,u) \\\\\n",
    " &= \\{u_0^*, u_1^*, ..., u_{N-1}^*\\}\n",
    " \\end{align*}$$\n",
    "\n",
    "The optimal solution is hence given by \n",
    "\n",
    "\n",
    "$$ \\begin{align*}\n",
    " u(k) &= u^*_0(x(k)) \\\\\n",
    " &= -(R + B^T X_1 B)^{-1} B^T x_{k+1} A x(k)  \\\\\n",
    "      & = K_{RHC} x(k) \n",
    "\\end{align*}$$\n",
    "\n",
    "The parameters are Q, R, P and N. Refer to [`optimal_control.ipynb`](optimal_control.ipynb) for more details on Discrete-time Finite Horizon LQR that this is based on."
   ]
  },
  {
   "cell_type": "markdown",
   "metadata": {},
   "source": [
    "We can now explore stability characteristics by:\n",
    "\n",
    "1. Fix $Q = P = I$\n",
    "2. Compute $\\rho(A + BK_{RHC})$ over a grid of R and N. \n",
    "3. Indicate unstable areas (Eignevalues present outside the unit circle)"
   ]
  },
  {
   "cell_type": "markdown",
   "metadata": {},
   "source": [
    "## Stability Theorem"
   ]
  },
  {
   "cell_type": "markdown",
   "metadata": {},
   "source": [
    "consider the optimal input\n",
    "\n",
    "$$\\mathbf{u}^* = \\{u_0^*, u_1^*, ..., u_{N-1}^* \\}$$\n",
    "\n",
    "apply $u_0^*$ and add $Kx^*_N$ to the tail, where $\\rho(A + BK) < 1$\n",
    "\n",
    "$$\\mathbf{\\tilde{u}} = \\{u_1^*, ..., u_{N-1}^*, Kx^*_N \\}$$"
   ]
  },
  {
   "cell_type": "markdown",
   "metadata": {},
   "source": [
    "$$\\begin{align*}\n",
    "V^*(x(k+1)) - V^*(x(k)) &\\leq V(x(k+1), \\tilde{u}(x)) - V^*(x(k)) \\\\\n",
    "&= x_{N+1}^T Px_{N+1} + \\sum_{i=1}^N \\left(x_i^T Qx_i + u_i^T Ru_i\\right) - x_0^T Px_N - \\sum_{i=0}^{N-1} \\left(x_i^T Qx_i + u_i^T Ru_i\\right) \\\\\n",
    "&= x_N^T(A + BK)^T P(A + BK)x_N + \\left(x_N^T Qx_N + x_N^T K^T RKx_N\\right) \\\\\n",
    "&\\quad - x_N^T Px_N - \\left(x_0^T Qx_0 + u_0^T Ru_0\\right) \\\\\n",
    "&\\leq x_N^T((A + BK)^T P(A + BK) - P + Q + K^T RK)x_N - x_0^T Qx_0 \\leq -x_0^T Qx_0\n",
    "\\end{align*}$$\n",
    "\n",
    "so \n",
    "\n",
    "$$ V^*(x(k+1)) \\leq V^*(x(k)) - x(k)^T Q x(k) $$\n",
    "\n",
    "This clearly shows that \n",
    "\n",
    "$$\\lim_{k \\to \\infty} V^*(x(k)) = 0 \\text{ and so } \\lim_{k \\to \\infty} x(k) = 0$$"
   ]
  }
 ],
 "metadata": {
  "kernelspec": {
   "display_name": ".venv",
   "language": "python",
   "name": "python3"
  },
  "language_info": {
   "name": "python",
   "version": "3.12.7"
  }
 },
 "nbformat": 4,
 "nbformat_minor": 2
}
