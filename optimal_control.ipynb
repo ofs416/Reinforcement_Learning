{
 "cells": [
  {
   "cell_type": "markdown",
   "metadata": {},
   "source": [
    "# Finite Horizon Optimal Control"
   ]
  },
  {
   "cell_type": "markdown",
   "metadata": {},
   "source": [
    "## Dicrete-time"
   ]
  },
  {
   "cell_type": "markdown",
   "metadata": {},
   "source": [
    "### Dynamics\n",
    "\n",
    "$$x_{k+1} = f(x_k, u_k), \\text{ where } f(x, u) = Ax + Bu \\text{ for example} $$\n",
    "\n",
    "### Trajectory\n",
    "\n",
    "Given $x_0$, each input sequence, $u_0$, $u_1$, ... ,$u_{h-1}$, generates a state sequence $x_0$, $x_1$, ... ,$x_h$.\n",
    "\n",
    "### Cost Function\n",
    "\n",
    "$$J(x_0, u_0, u_1, ... ,u_{h-1}) = \\sum^{h-1}_{k=0} c(x_k, u_k) + J_h(x_h)$$\n",
    "\n",
    "where $c(x_k, u_k)$ is the stage cost and $J_h(x_h)$ is the terminal cost.\n",
    "\n",
    "### Objective\n",
    "\n",
    "$$\\begin{align*}\n",
    "J^*(x_0) &= J(x_0, u_0^*, u_1^*, ..., u_{n-1}^*) \\\\\n",
    "&= \\min_{u_0,u_1,...,u_{n-1}} J(x_0, u_0, ..., u_{n-1})\n",
    "\\end{align*}$$"
   ]
  },
  {
   "cell_type": "markdown",
   "metadata": {},
   "source": [
    "### Bellman's Principle of Optimality\n",
    "\n",
    "$$V(x, k) \\triangleq \\min_{u_k,u_{k+1},...,u_{h-1}} \\left(\\sum_{i=k}^{h-1} c(x_i, u_i) + J_h(x_h)\\right)$$\n",
    "\n",
    "$V(x, k)$ is the value function or cost-to-go\n",
    "\n",
    "$$\\begin{align*}\n",
    "V(x, k) &= \\min_{u_k,u_{k+1},...,u_{h-1}} \\left(\\sum_{i=k}^{h-1} c(x_i, u_i) + J_h(x_h)\\right) \\\\\n",
    "&= \\min_{u_k,u_{k+1},...,u_{h-1}} \\left(c(x_k, u_k) + \\sum_{i=k+1}^{h-1} c(x_i, u_i) + J_h(x_h)\\right) \\\\\n",
    "&= \\min_{u_k} \\left(\\min_{u_{k+1},...,u_{h-1}} \\left(c(x_k, u_k) + \\sum_{i=k+1}^{h-1} c(x_i, u_i) + J_h(x_h)\\right)\\right) \\\\\n",
    "&= \\min_{u_k} \\left(c(x_k, u_k) + \\min_{u_{k+1},...,u_{h-1}} \\left(\\sum_{i=k+1}^{h-1} c(x_i, u_i) + J_h(x_h)\\right)\\right) \\\\\n",
    "&= \\min_{u_k}(c(x_k, u_k) + V(x_{k+1}, k + 1))\n",
    "\\end{align*}$$\n",
    "\n",
    "where $V(x, h) = J_h(x)$ and $ V(x_0, 0) = J^*(x_0)$"
   ]
  },
  {
   "cell_type": "markdown",
   "metadata": {},
   "source": [
    "### Optimal Input\n",
    "\n",
    "$$g(x, k) = \\arg\\min_u(c(x, u) + V(f(x, u), k + 1))$$\n",
    "\n",
    "Then the optimal control is given by\n",
    "\n",
    "$$u_k^* = g(x_k, k), \\quad k = 0, 1, ..., h-1.$$\n"
   ]
  },
  {
   "cell_type": "markdown",
   "metadata": {},
   "source": []
  },
  {
   "cell_type": "markdown",
   "metadata": {},
   "source": [
    "### Dynamics\n",
    "\n",
    "$$\\dot{x} = f(x, u), \\text{ e.g. } \\dot{x} = \\sin{x} + u $$\n",
    "\n",
    "### Trajectory\n",
    "\n",
    "Given $x_0 \\in X$ and a horizon $T \\geq 0$, each input function $u(\\cdot) : [0,T] \\to U$ generates a state trajectory\n",
    "$x(\\cdot) : [0,T] \\to \\mathbb{R}^n$ such that $x(0) = x_0$ and $\\forall t \\in [0,T] : x(t) = f(x(t),u(t))$.\n",
    "\n",
    "### Cost Function\n",
    "\n",
    "$$J(x_0, u(\\cdot)) = \\int^T_0 c(x(t), u(t)) + J_T(x_T)$$\n",
    "\n",
    "where $c(x_k, u_k)$ is the stage cost and $J_h(x_h)$ is the terminal cost.\n",
    "\n",
    "### Objective\n",
    "\n",
    "$$\\begin{align*}\n",
    "J^*(x_0) &= J(x_0, u^*(\\cdot)) \\\\\n",
    "&= \\min_{u(\\cdot)} J(x_0, u(\\cdot))\n",
    "\\end{align*}$$"
   ]
  },
  {
   "cell_type": "markdown",
   "metadata": {},
   "source": [
    "### Bellman's Principality of Optimality\n",
    "\n",
    "$$V(x(t), t) \\triangleq \\min_{u(\\cdot)} \\left(\\int_t^T c(x(\\tau), u(\\tau)) d\\tau + J_T(x(T))\\right)$$\n",
    "\n",
    "following the discrete case, we are able to obtain recursion:\n",
    "\n",
    "$$\\begin{align*}\n",
    "V(x(t), t) &= \\min_{u(\\cdot)} \\left(\\int_t^{t+h} c(x(\\tau), u(\\tau)) d\\tau + \\int_{t+h}^T c(x(\\tau), u(\\tau)) d\\tau + J_T(x(T))\\right) \\\\\n",
    "&= \\min_{u(\\cdot)} \\left(\\int_t^{t+h} c(x(\\tau), u(\\tau)) d\\tau + V(x(t+h), t+h)\\right)\n",
    "\\end{align*}$$\n",
    "\n",
    "where $V(x(T), T) = J_T(x(T))$ and $V(x(0), 0) = J^*(x(0))$."
   ]
  },
  {
   "cell_type": "markdown",
   "metadata": {},
   "source": [
    "### Optimal Input\n",
    "\n",
    "first we approximate the continous dynamics\n",
    "\n",
    "$$x(t+h) = x(t) + f(x(t),u(t))h + \\mathcal{O}(h^2)$$\n",
    "\n",
    "and the incremental cost accumalation\n",
    "\n",
    "$$\\int_t^{t+h} c(x(\\tau),u(\\tau)) d\\tau = c(x(t),u(t))h + \\mathcal{O}(h^2)$$\n",
    "\n",
    "subbing into the Bellman's gives\n",
    "\n",
    "$$V(x,t) = \\min_{u \\in U} \\left(c(x,u)h + V(x + f(x,u)h, t + h)\\right) + \\mathcal{O}(h^2)$$\n",
    "\n",
    "recall that\n",
    "\n",
    "$$\\frac{\\partial V}{\\partial x} \\triangleq \\left[\\frac{\\partial V}{\\partial x_1} \\quad \\frac{\\partial V}{\\partial x_2} \\quad \\frac{\\partial V}{\\partial x_3} \\quad \\cdots \\quad \\frac{\\partial V}{\\partial x_n}\\right]$$\n",
    "\n",
    "therefore \n",
    "\n",
    "$$V(x,t) = \\min_{u \\in U} \\left(c(x,u)h + V(x, t) + \\frac{\\partial V(x, t)}{\\partial x} f(x, u) h + \\frac{\\partial V(x, t)}{\\partial t} h \\right) + \\mathcal{O}(h^2)$$\n",
    "\n",
    "rearrange to finally give **Hamilton-Jacobi-Bellman PDE**\n",
    "\n",
    "$$ - \\frac{\\partial V(x, t)}{\\partial t} = \\min_{u \\in U} \\left(c(x,u) + \\frac{\\partial V(x, t)}{\\partial x} f(x, u)  \\right) $$\n",
    "\n",
    "with the boundary condition of $V(x(T), T) = J_T(x(T))$ the optimal input is \n",
    "\n",
    "$$ u^*(t) =  \\min_{u \\in U} \\left(c(x,u) + \\frac{\\partial V(x, t)}{\\partial x} f(x, u)  \\right)$$"
   ]
  }
 ],
 "metadata": {
  "kernelspec": {
   "display_name": ".venv",
   "language": "python",
   "name": "python3"
  },
  "language_info": {
   "name": "python",
   "version": "3.12.7"
  }
 },
 "nbformat": 4,
 "nbformat_minor": 2
}
