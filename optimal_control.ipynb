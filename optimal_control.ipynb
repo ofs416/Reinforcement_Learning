{
 "cells": [
  {
   "cell_type": "markdown",
   "metadata": {},
   "source": [
    "# Finite Horizon Optimal Control"
   ]
  },
  {
   "cell_type": "markdown",
   "metadata": {},
   "source": [
    "## Dicrete-time"
   ]
  },
  {
   "cell_type": "markdown",
   "metadata": {},
   "source": [
    "### Dynamics\n",
    "\n",
    "$$x_{k+1} = f(x_k, u_k), \\text{ where } f(x, u) = Ax + Bu \\text{ for example} $$\n",
    "\n",
    "### Trajectory\n",
    "\n",
    "Given $x_0$, each input sequence, $u_0$, $u_1$, ... ,$u_{h-1}$, generates a state sequence $x_0$, $x_1$, ... ,$x_h$.\n",
    "\n",
    "### Cost Function\n",
    "\n",
    "$$J(x_0, u_0, u_1, ... ,u_{h-1}) = \\sum^{h-1}_{k=0} c(x_k, u_k) + J_h(x_h)$$\n",
    "\n",
    "where $c(x_k, u_k)$ is the stage cost and $J_h(x_h)$ is the terminal cost.\n",
    "\n",
    "### Objective\n",
    "\n",
    "$$\\begin{align*}\n",
    "J^*(x_0) &= J(x_0, u_0^*, u_1^*, ..., u_{n-1}^*) \\\\\n",
    "&= \\min_{u_0,u_1,...,u_{n-1}} J(x_0, u_0, ..., u_{n-1})\n",
    "\\end{align*}$$"
   ]
  },
  {
   "cell_type": "markdown",
   "metadata": {},
   "source": [
    "### Bellman's Principle of Optimality\n",
    "\n",
    "$$V(x, k) \\triangleq \\min_{u_k,u_{k+1},...,u_{h-1}} \\left(\\sum_{i=k}^{h-1} c(x_i, u_i) + J_h(x_h)\\right)$$\n",
    "\n",
    "$V(x, k)$ is the value function or cost-to-go\n",
    "\n",
    "$$\\begin{align*}\n",
    "V(x, k) &= \\min_{u_k,u_{k+1},...,u_{h-1}} \\left(\\sum_{i=k}^{h-1} c(x_i, u_i) + J_h(x_h)\\right) \\\\\n",
    "&= \\min_{u_k,u_{k+1},...,u_{h-1}} \\left(c(x_k, u_k) + \\sum_{i=k+1}^{h-1} c(x_i, u_i) + J_h(x_h)\\right) \\\\\n",
    "&= \\min_{u_k} \\left(\\min_{u_{k+1},...,u_{h-1}} \\left(c(x_k, u_k) + \\sum_{i=k+1}^{h-1} c(x_i, u_i) + J_h(x_h)\\right)\\right) \\\\\n",
    "&= \\min_{u_k} \\left(c(x_k, u_k) + \\min_{u_{k+1},...,u_{h-1}} \\left(\\sum_{i=k+1}^{h-1} c(x_i, u_i) + J_h(x_h)\\right)\\right) \\\\\n",
    "&= \\min_{u_k}(c(x_k, u_k) + V(x_{k+1}, k + 1))\n",
    "\\end{align*}$$"
   ]
  },
  {
   "cell_type": "markdown",
   "metadata": {},
   "source": [
    "### Optimal Input\n",
    "\n",
    "$$g(x, k) = \\arg\\min_u(c(x, u) + V(f(x, u), k + 1))$$\n",
    "\n",
    "Then the optimal control is given by\n",
    "\n",
    "$$u_k^* = g(x_k, k), \\quad k = 0, 1, ..., h-1.$$\n"
   ]
  },
  {
   "cell_type": "markdown",
   "metadata": {},
   "source": [
    "## Continuous-time"
   ]
  }
 ],
 "metadata": {
  "kernelspec": {
   "display_name": ".venv",
   "language": "python",
   "name": "python3"
  },
  "language_info": {
   "name": "python",
   "version": "3.12.7"
  }
 },
 "nbformat": 4,
 "nbformat_minor": 2
}
