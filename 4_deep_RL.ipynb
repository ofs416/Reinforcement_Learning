{
 "cells": [
  {
   "cell_type": "markdown",
   "metadata": {},
   "source": [
    "## Deep Q-learning "
   ]
  },
  {
   "cell_type": "markdown",
   "metadata": {},
   "source": [
    "For more complex problems, a discrete state-action space may not be feasible. Instead we create a function approximation\n",
    "\n",
    "$$Q_\\theta(s,a)$$\n",
    "\n",
    "Where $\\theta$ are the function parameters.\n",
    "\n"
   ]
  },
  {
   "cell_type": "markdown",
   "metadata": {},
   "source": [
    "We now seek to minimise the loss function\n",
    "\n",
    "$$ L(\\theta) = \\mathbb{E}(y_k - Q_\\theta(x_k, a_k))^2 $$\n",
    "\n",
    "where\n",
    "\n",
    "$$y_k = c_k + \\lambda \\min_a Q_\\theta(x_{k+1}, a)$$\n",
    "\n",
    "Therefore each time we perform our minimisation algorithm, we require a minibatch of quartets\n",
    "\n",
    "$$e_k = (x_k, a_k, c_k, x_{k+1})$$"
   ]
  },
  {
   "cell_type": "markdown",
   "metadata": {},
   "source": [
    "Like the Q-learning decscribed above, this is an off-policy method. Although this can be unstable, hence we may use\n",
    "\n",
    "$$y_k = c_k + \\lambda \\min_a Q_{\\theta'}(x_{k+1}, a)$$\n",
    "\n",
    "where $Q_{\\theta'}(x_{k}, a)$ tracks $Q_{\\theta}(x_{k}, a)$ by periodically using $\\theta' = \\theta $."
   ]
  },
  {
   "cell_type": "markdown",
   "metadata": {},
   "source": [
    "## Actor-critic Methods"
   ]
  },
  {
   "cell_type": "markdown",
   "metadata": {},
   "source": [
    "The above method has a notable problem, how can we gurantee performance with the presence of $\\min_a$?"
   ]
  },
  {
   "cell_type": "markdown",
   "metadata": {},
   "source": [
    "This is where we now introduce another neural network $\\Pi_w$ that determines the suitable action given a state. $y_k$ is now given by \n",
    "\n",
    "$$y_k = c_k + \\lambda \\min_a Q_{\\theta}(x_{k+1}, \\Pi_w(x_{k+1}))$$\n",
    "\n",
    "and the function to minimise for the actor is given by \n",
    "\n",
    "$$L_\\Pi(w) = \\mathbb{E}(Q_{\\theta}(x, \\Pi_w(x_))) $$\n"
   ]
  }
 ],
 "metadata": {
  "language_info": {
   "name": "python"
  }
 },
 "nbformat": 4,
 "nbformat_minor": 2
}
