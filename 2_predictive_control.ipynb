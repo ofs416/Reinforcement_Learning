{
 "cells": [
  {
   "cell_type": "markdown",
   "metadata": {},
   "source": [
    "# Introduction"
   ]
  },
  {
   "cell_type": "markdown",
   "metadata": {
    "vscode": {
     "languageId": "plaintext"
    }
   },
   "source": [
    "Control input to the plant is the solution to an optimisation problem, computed at each discrete time step.\n",
    "\n",
    "This allows us to include constraints, acheive set points closer to optimal while sacrificing robustness and now requirig full state f/b as opposed to traditional methods using output feedback.\n",
    "\n",
    "- No need for closed-form solution\n",
    "- Flexible choice of cost function\n",
    "- Constrained ooptimisation as opposed to including it within the cost function\n",
    "- Non-linear prediction models are possible"
   ]
  },
  {
   "cell_type": "markdown",
   "metadata": {},
   "source": [
    "# Unconstrained Predictive Control\n",
    "\n",
    "Given an initial state $x = x(k)$, compute a finite horizon input sequence\n",
    "\n",
    "$$\\mathbf{u} = \\{u_0, u_1, ..., u_{N-1} \\}$$\n",
    "\n",
    "that minimises\n",
    "\n",
    "$$ V(x, \\mathbf{u}) = x_N^T P x_N + \\sum^{N-1}_{i=0} (x_i^T Q x_i + u_i^T R u_i) $$\n",
    "\n",
    "where $x_i$ is the prediction of $x_{k + i}$ with $x_0 = x(k)$\n",
    "\n",
    "$$V^*(x) \\triangleq \\min_u V(x,u)$$\n",
    "\n",
    "The optimal input sequence is defined as:\n",
    "\n",
    "$$ \\begin{align*}\n",
    "u^*(x) &\\triangleq \\arg\\min V(x,u) \\\\\n",
    " &= \\{u_0^*, u_1^*, ..., u_{N-1}^*\\}\n",
    " \\end{align*}$$\n",
    "\n",
    "The optimal solution is hence given by \n",
    "\n",
    "\n",
    "$$ \\begin{align*}\n",
    " u(k) &= u^*_0(x(k)) \\\\\n",
    " &= -(R + B^T X_1 B)^{-1} B^T x_{k+1} A x(k)  \\\\\n",
    "      & = K_{RHC} x(k) \n",
    "\\end{align*}$$\n",
    "\n",
    "The parameters are Q, R, P and N. Refer to [`1_optimal_control.ipynb`](1_optimal_control.ipynb) for more details on Discrete-time Finite Horizon LQR that this is based on."
   ]
  },
  {
   "cell_type": "markdown",
   "metadata": {},
   "source": [
    "We can now explore stability characteristics by:\n",
    "\n",
    "1. Fix $Q = P = I$\n",
    "2. Compute $\\rho(A + BK_{RHC})$ over a grid of R and N. \n",
    "3. Indicate unstable areas (Eignevalues present outside the unit circle)"
   ]
  },
  {
   "cell_type": "markdown",
   "metadata": {},
   "source": [
    "## Stability Theorem"
   ]
  },
  {
   "cell_type": "markdown",
   "metadata": {},
   "source": [
    "The findings of the above section drive us to formulate a method to ensure stability of the control."
   ]
  },
  {
   "cell_type": "markdown",
   "metadata": {},
   "source": [
    "1. Q and R are positive definite\n",
    "2. $(A + BK)^T P(A + BK) - P \\leq -Q - K^TRK$"
   ]
  },
  {
   "cell_type": "markdown",
   "metadata": {},
   "source": [
    "### Proof"
   ]
  },
  {
   "cell_type": "markdown",
   "metadata": {},
   "source": [
    "Consider the optimal input\n",
    "\n",
    "$$\\mathbf{u}^* = \\{u_0^*, u_1^*, ..., u_{N-1}^* \\}$$\n",
    "\n",
    "apply $u_0^*$ and add $Kx^*_N$ to the tail, where $\\rho(A + BK) < 1$\n",
    "\n",
    "$$\\mathbf{\\tilde{u}} = \\{u_1^*, ..., u_{N-1}^*, Kx^*_N \\}$$"
   ]
  },
  {
   "cell_type": "markdown",
   "metadata": {},
   "source": [
    "$$\\begin{align*}\n",
    "V^*(x(k+1)) - V^*(x(k)) &\\leq V(x(k+1), \\tilde{u}(x)) - V^*(x(k)) \\\\\n",
    "&= x_{N+1}^T Px_{N+1} + \\sum_{i=1}^N \\left(x_i^T Qx_i + u_i^T Ru_i\\right) - x_0^T Px_N - \\sum_{i=0}^{N-1} \\left(x_i^T Qx_i + u_i^T Ru_i\\right) \\\\\n",
    "&= x_N^T(A + BK)^T P(A + BK)x_N + \\left(x_N^T Qx_N + x_N^T K^T RKx_N\\right) \\\\\n",
    "&\\quad - x_N^T Px_N - \\left(x_0^T Qx_0 + u_0^T Ru_0\\right) \\\\\n",
    "&\\leq x_N^T((A + BK)^T P(A + BK) - P + Q + K^T RK)x_N - x_0^T Qx_0 \\leq -x_0^T Qx_0\n",
    "\\end{align*}$$\n",
    "\n",
    "so \n",
    "\n",
    "$$ V^*(x(k+1)) \\leq V^*(x(k)) - x(k)^T Q x(k) $$\n",
    "\n",
    "This clearly shows that \n",
    "\n",
    "$$\\lim_{k \\to \\infty} V^*(x(k)) = 0 \\text{ and so } \\lim_{k \\to \\infty} x(k) = 0$$"
   ]
  },
  {
   "cell_type": "markdown",
   "metadata": {},
   "source": [
    "# Value Function as Terminal Cost"
   ]
  },
  {
   "cell_type": "markdown",
   "metadata": {},
   "source": [
    "It can be simply shown that setting the terminal cost P to equal the solution of the **DARE**, sets $X_0 = X_1 = ... = X_N = X = P$, with optimal cost $V^*(x) = x^T X_0 x $."
   ]
  },
  {
   "cell_type": "markdown",
   "metadata": {},
   "source": [
    "The solution is hence independent of N\n",
    "\n",
    "$$ V^*(x) = \\min_u \\left(  x_N^TXx_N + \\sum^{N-1}_{i=0} x_i^T Q x_i u_i^T R u_i \\right) = x^T X x   $$\n",
    "\n",
    "for any N from 0 to $ \\infty $."
   ]
  },
  {
   "cell_type": "markdown",
   "metadata": {},
   "source": [
    "# Constrained Predictive Optimisation"
   ]
  },
  {
   "cell_type": "markdown",
   "metadata": {},
   "source": [
    "The setup replicates that of the unconstrained version, but now with the addition of linear constraints\n",
    "\n",
    "$$\\begin{align*}\n",
    "M_i x_i + E_i u_i &\\leq b_i \\quad \\text{for all } i = 0, 1, ..., N-1 \\\\\n",
    "M_N x_N &\\leq b_N\n",
    "\\end{align*}$$\n",
    "\n",
    "suppose we have the following constraints\n",
    "\n",
    "$$\\begin{align*}\n",
    "u_{low} \\leq u_i \\leq u_{high}, \\quad &i = 0, 1, ..., N-1 \\\\\n",
    "y_{low} \\leq y_i \\leq y_{high}, \\quad &i = 0, 1, ..., N\n",
    "\\end{align*}$$\n",
    "\n",
    "where y_i is the observed variable given by $y_i = Cx_i$\n",
    "\n",
    "defining\n",
    "\n",
    "$$M_i \\triangleq \\begin{bmatrix} 0 \\\\ 0 \\\\ -C \\\\ C \\end{bmatrix}, \\quad E_i \\triangleq \\begin{bmatrix} -I \\\\ +I \\\\ 0 \\\\ 0 \\end{bmatrix}, \\quad b_i \\triangleq \\begin{bmatrix} -u_{low} \\\\ +u_{high} \\\\ -y_{low} \\\\ +y_{high} \\end{bmatrix} \\quad \\text{for } i = 0, 1, ..., N-1$$\n",
    "\n",
    "and\n",
    "\n",
    "$$M_N \\triangleq \\begin{bmatrix} -C \\\\ +C \\end{bmatrix}, \\quad b_N \\triangleq \\begin{bmatrix} -y_{low} \\\\ +y_{high} \\end{bmatrix}.$$\n",
    "\n",
    "altogether this gives\n",
    "\n",
    "$$\\begin{bmatrix} \n",
    "E_0 & 0 & 0 & 0 & \\cdots & 0 & 0 \\\\\n",
    "0 & M_1 & E_1 & 0 & \\cdots & 0 & 0 \\\\\n",
    "0 & 0 & 0 & M_2 & \\cdots & 0 & 0 \\\\\n",
    "\\vdots & \\vdots & \\vdots & \\vdots & \\ddots & \\vdots & \\vdots \\\\\n",
    "0 & 0 & 0 & 0 & \\cdots & E_{N-1} & 0 \\\\\n",
    "0 & 0 & 0 & 0 & \\cdots & 0 & M_N\n",
    "\\end{bmatrix}\n",
    "\\begin{bmatrix}\n",
    "u_0 \\\\\n",
    "x_1 \\\\\n",
    "u_1 \\\\\n",
    "x_2 \\\\\n",
    "\\vdots \\\\\n",
    "u_{N-1} \\\\\n",
    "x_N\n",
    "\\end{bmatrix} \\leq \n",
    "\\begin{bmatrix}\n",
    "-M_0x(k) + b_0 \\\\\n",
    "b_1 \\\\\n",
    "b_2 \\\\\n",
    "\\vdots \\\\\n",
    "b_{N-1} \\\\\n",
    "b_N\n",
    "\\end{bmatrix}$$\n",
    "\n",
    "$$ \\mathcal{G} \\theta \\leq h $$"
   ]
  },
  {
   "cell_type": "markdown",
   "metadata": {},
   "source": [
    "This gives\n",
    "\n",
    "$$ V(x, \\theta) = x^T Q x + \\theta ^T \\Omega \\theta $$\n",
    "\n",
    "where\n",
    "\n",
    "$$ \\Omega =  \\begin{bmatrix}\n",
    "R & 0 & 0 & 0 & \\cdots & 0 & 0 \\\\\n",
    "0 & Q & 0 & 0 & \\cdots & 0 & 0 \\\\\n",
    "0 & 0 & R & 0 & \\cdots & 0 & 0 \\\\\n",
    "0 & 0 & 0 & Q & \\cdots & 0 & 0 \\\\\n",
    "\\vdots & \\vdots & \\vdots & \\vdots & \\ddots & \\vdots & \\vdots \\\\\n",
    "0 & 0 & 0 & 0 & \\cdots & R & 0 \\\\\n",
    "0 & 0 & 0 & 0 & \\cdots & 0 & P\n",
    "\\end{bmatrix}$$\n"
   ]
  },
  {
   "cell_type": "markdown",
   "metadata": {},
   "source": [
    "Finally dynamics are given by \n",
    "\n",
    "$$\\begin{bmatrix}\n",
    "B & -I & 0 & 0 & \\cdots & 0 & 0 \\\\\n",
    "0 & A & B & -I & \\cdots & 0 & 0 \\\\\n",
    "0 & 0 & 0 & A & \\cdots & 0 & 0 \\\\\n",
    "\\vdots & \\vdots & \\vdots & \\vdots & \\ddots & \\vdots & \\vdots \\\\\n",
    "0 & 0 & 0 & 0 & \\cdots & B & -I\n",
    "\\end{bmatrix}\n",
    "\\begin{bmatrix}\n",
    "u_0 \\\\\n",
    "x_1 \\\\\n",
    "u_1 \\\\\n",
    "x_2 \\\\\n",
    "\\vdots \\\\\n",
    "u_{N-1} \\\\\n",
    "x_N\n",
    "\\end{bmatrix} = \n",
    "\\begin{bmatrix}\n",
    "-Ax(k) \\\\\n",
    "0 \\\\\n",
    "0 \\\\\n",
    "\\vdots \\\\\n",
    "0\n",
    "\\end{bmatrix}$$\n",
    "\n",
    "$$\\mathcal{A}\\theta = b$$"
   ]
  },
  {
   "cell_type": "markdown",
   "metadata": {},
   "source": [
    "This can now be posed as a Quadratic Prograp (see [`Practical_Optimisation`](https://github.com/ofs416/Practical_Optimisation)) and simply inputted into a solver.\n",
    "\n",
    "$$\\begin{align*}\n",
    "\\min_\\theta \\quad & \\theta^T \\Omega\\theta \\\\\n",
    "\\text{subject to:} \\quad & \\mathcal{G}\\theta \\leq h \\\\\n",
    "& \\mathcal{A}\\theta = b\n",
    "\\end{align*}$$\n",
    "\n",
    "with a unique solution given by $\\Omega > 0$."
   ]
  },
  {
   "cell_type": "markdown",
   "metadata": {},
   "source": [
    "## Example: Double Integrator"
   ]
  },
  {
   "cell_type": "code",
   "execution_count": 208,
   "metadata": {},
   "outputs": [],
   "source": [
    "import numpy as np\n",
    "import qpsolvers\n",
    "from scipy.linalg import block_diag\n",
    "from scipy.sparse import csc_matrix\n",
    "import matplotlib.pyplot as plt"
   ]
  },
  {
   "cell_type": "markdown",
   "metadata": {},
   "source": [
    "$$ A = \n",
    "\\begin{bmatrix}\n",
    "1 & 1 \\\\\n",
    "0 & 1 \n",
    "\\end{bmatrix}, \\quad B = \n",
    "\\begin{bmatrix}\n",
    "0.5 \\\\\n",
    "1 \n",
    "\\end{bmatrix},\n",
    "\\quad C = \\begin{bmatrix} 1 & 0  \\end{bmatrix}$$"
   ]
  },
  {
   "cell_type": "code",
   "execution_count": 209,
   "metadata": {},
   "outputs": [],
   "source": [
    "def dynamics(x0, u0, A, B):\n",
    "    return A @ x0 + B * u0"
   ]
  },
  {
   "cell_type": "code",
   "execution_count": 210,
   "metadata": {},
   "outputs": [],
   "source": [
    "A = np.array([[1, 1], [0, 1]])\n",
    "B = np.array([[0.5], [1]])\n",
    "C = np.array([[1, 0], [0, 1]])"
   ]
  },
  {
   "cell_type": "markdown",
   "metadata": {},
   "source": [
    "$$ |u| \\leq 1, \\quad |x_1| \\leq 12, \\quad N = 20 $$"
   ]
  },
  {
   "cell_type": "code",
   "execution_count": 211,
   "metadata": {},
   "outputs": [],
   "source": [
    "u_min = -2\n",
    "u_max = 2\n",
    "x1_min = -12\n",
    "x1_max = 12\n",
    "x2_min = -np.inf\n",
    "x2_max = np.inf\n",
    "N = 20"
   ]
  },
  {
   "cell_type": "markdown",
   "metadata": {},
   "source": [
    "$$ M =\\begin{bmatrix} 0 \\\\ 0 \\\\ -C \\\\ C\\end{bmatrix}, \\quad E = \\begin{bmatrix} -I \\\\ +I \\\\ 0 \\\\ 0 \\\\ 0 \\\\ 0\\end{bmatrix}, \\quad b = \\begin{bmatrix} 1 \\\\ 1 \\\\ 12\\\\ 0 \\\\ 12 \\\\ 0   \\end{bmatrix}$$\n",
    "\n",
    "and \n",
    "\n",
    "$$ M_N = \\begin{bmatrix} -C \\\\ C\\end{bmatrix}, \\quad b_N = \\begin{bmatrix}  12 \\\\ 12   \\end{bmatrix}$$"
   ]
  },
  {
   "cell_type": "code",
   "execution_count": 212,
   "metadata": {},
   "outputs": [],
   "source": [
    "E = np.block([[-1], [1], [np.zeros((2 * C.shape[0], 1))]])\n",
    "\n",
    "M = np.block([[np.zeros((2 * B.shape[1], C.shape[1]))], [-C], [C]])\n",
    "b = np.array([[-1 * u_min], [u_max], [-1 * x1_min], [-1 * x2_min], [x1_max], [x2_max]])\n",
    "\n",
    "M_N = np.block([[-C], [C]])\n",
    "b_N = np.array([[-1 * x1_min], [-1 * x2_min], [x1_max], [x2_max]])"
   ]
  },
  {
   "cell_type": "markdown",
   "metadata": {},
   "source": [
    "$$ Q = \n",
    "\\begin{bmatrix}\n",
    "1 & 0 \\\\\n",
    "0 & 0 \n",
    "\\end{bmatrix} , \\quad P = \n",
    "\\begin{bmatrix}\n",
    "2 & 1 \\\\\n",
    "1 & 1.5 \n",
    "\\end{bmatrix}, \\quad R = 1$$"
   ]
  },
  {
   "cell_type": "code",
   "execution_count": 213,
   "metadata": {},
   "outputs": [],
   "source": [
    "Q = np.array([[1, 0], [0, 0]])\n",
    "P = np.array([[2, 1], [1, 1.5]])\n",
    "R = np.array([[1]])"
   ]
  },
  {
   "cell_type": "markdown",
   "metadata": {},
   "source": [
    "Now we construct $\\Omega$, $\\mathcal{A}$, $\\mathcal{G}$, $h$ and $c$."
   ]
  },
  {
   "cell_type": "code",
   "execution_count": 214,
   "metadata": {},
   "outputs": [],
   "source": [
    "h = np.block([[np.block([[b] for _ in range(N)])], [b_N]])\n",
    "\n",
    "G = block_diag(E, *([np.block([M, E])] * (N - 1)), M_N)\n",
    "\n",
    "Omega = block_diag(R, *([block_diag(Q, R)] * (N - 1)), P)\n",
    "\n",
    "A_cal = block_diag(*([np.block([B, -np.eye(B.shape[0])])] * N)) + block_diag(\n",
    "    np.zeros_like(B),\n",
    "    *([np.block([A, np.zeros_like(B)])] * (N - 2)),\n",
    "    np.block([A, np.zeros_like(B), np.zeros((B.shape[0], B.shape[0]))]),\n",
    ")"
   ]
  },
  {
   "cell_type": "code",
   "execution_count": 215,
   "metadata": {},
   "outputs": [
    {
     "data": {
      "text/plain": [
       "['clarabel', 'osqp', 'qpalm', 'quadprog', 'scs']"
      ]
     },
     "execution_count": 215,
     "metadata": {},
     "output_type": "execute_result"
    }
   ],
   "source": [
    "qpsolvers.available_solvers"
   ]
  },
  {
   "cell_type": "code",
   "execution_count": 216,
   "metadata": {},
   "outputs": [],
   "source": [
    "Omega_sparse = csc_matrix(Omega)\n",
    "G_sparse = csc_matrix(G)\n",
    "A_cal_sparse = csc_matrix(A_cal)"
   ]
  },
  {
   "cell_type": "code",
   "execution_count": 217,
   "metadata": {},
   "outputs": [],
   "source": [
    "def mpc_step(x0, A, M, h, b, Omega, G, A_cal, **kwargs):\n",
    "    b0 = np.block([[-A @ x0], [np.zeros((x0.shape[0] * (N - 1), 1))]])\n",
    "    h0 = h + np.block([[-M @ x0], [np.zeros((h.shape[0] - b.shape[0], 1))]])\n",
    "\n",
    "    return qpsolvers.solve_qp(\n",
    "        Omega, np.zeros(Omega.shape[0]), G, h0, A_cal, b0, **kwargs\n",
    "    )"
   ]
  },
  {
   "cell_type": "code",
   "execution_count": 218,
   "metadata": {},
   "outputs": [],
   "source": [
    "def mpc(x0, A, M, h, b, Omega, G, A_cal, steps, **kwargs):\n",
    "    x = np.zeros((x0.shape[0], steps + 1))\n",
    "    x[:, 0] = x0.flatten()\n",
    "    u = np.zeros((B.shape[1], steps))\n",
    "    for i in range(steps):\n",
    "        u[:, i] = mpc_step(x[:, i, np.newaxis], A, M, h, b, Omega, G, A_cal, **kwargs)[\n",
    "            0\n",
    "        ]\n",
    "        x[:, i + 1] = dynamics(x[:, i, np.newaxis], u[:, i], A, B).flatten()\n",
    "    return x, u"
   ]
  },
  {
   "cell_type": "code",
   "execution_count": 219,
   "metadata": {},
   "outputs": [],
   "source": [
    "x0 = np.array([[7], [3]])\n",
    "\n",
    "x_hist, u_hist = mpc(\n",
    "    x0,\n",
    "    A,\n",
    "    M,\n",
    "    h,\n",
    "    b,\n",
    "    Omega_sparse,\n",
    "    G_sparse,\n",
    "    A_cal_sparse,\n",
    "    20,\n",
    "    solver=\"osqp\",\n",
    "    verbose=False,\n",
    ")"
   ]
  },
  {
   "cell_type": "code",
   "execution_count": null,
   "metadata": {},
   "outputs": [],
   "source": [
    "# Plot the state x\n",
    "plt.figure(figsize=(12, 6))\n",
    "plt.subplot(2, 1, 1)\n",
    "plt.plot(x_hist[0, :], label=\"Position\")\n",
    "plt.plot(x_hist[1, :], label=\"Velocity\")\n",
    "plt.axhline(y=x1_max, color=\"r\", linestyle=\"--\", label=\"Pos. Constraint\")\n",
    "plt.axhline(y=x1_min, color=\"r\", linestyle=\"--\")\n",
    "plt.title(\"State Evolution\")\n",
    "plt.xlabel(\"Time Step\")\n",
    "plt.ylabel(\"State\")\n",
    "plt.legend()\n",
    "plt.grid(True)\n",
    "\n",
    "\n",
    "# Plot the control input u\n",
    "plt.subplot(2, 1, 2)\n",
    "plt.plot(u_hist[0, :], label=\"Control Input\")\n",
    "plt.title(\"Control Input Evolution\")\n",
    "plt.axhline(y=u_max, color=\"r\", linestyle=\"--\", label=\"Constraint\")\n",
    "plt.axhline(y=u_min, color=\"r\", linestyle=\"--\")\n",
    "plt.xlabel(\"Time Step\")\n",
    "plt.ylabel(\"Control Input\")\n",
    "plt.legend()\n",
    "plt.grid(True)\n",
    "\n",
    "plt.tight_layout()\n",
    "plt.show()"
   ]
  },
  {
   "cell_type": "markdown",
   "metadata": {},
   "source": [
    "Below we highlight that a single step is identical to the above case as our model perfectly captures the dynamics, therefore below is merely **constrained optimal control**"
   ]
  },
  {
   "cell_type": "code",
   "execution_count": 221,
   "metadata": {},
   "outputs": [],
   "source": [
    "data = mpc_step(\n",
    "    x0,\n",
    "    A,\n",
    "    M,\n",
    "    h,\n",
    "    b,\n",
    "    Omega_sparse,\n",
    "    G_sparse,\n",
    "    A_cal_sparse,\n",
    "    solver=\"osqp\",\n",
    "    verbose=False,\n",
    ")\n",
    "\n",
    "x_hist = np.array([x for i in range(1, len(data), 3) for x in data[i : i + 2]]).reshape(\n",
    "    -1, 2\n",
    ")\n",
    "u_hist = np.array(data[0::3])"
   ]
  },
  {
   "cell_type": "code",
   "execution_count": null,
   "metadata": {},
   "outputs": [],
   "source": [
    "# Plot the state x\n",
    "plt.figure(figsize=(12, 6))\n",
    "plt.subplot(2, 1, 1)\n",
    "plt.plot(x_hist[:, 0], label=\"Position\")\n",
    "plt.plot(x_hist[:, 1], label=\"Velocity\")\n",
    "plt.axhline(y=x1_max, color=\"r\", linestyle=\"--\", label=\"Pos. Constraint\")\n",
    "plt.axhline(y=x1_min, color=\"r\", linestyle=\"--\")\n",
    "plt.title(\"State Evolution\")\n",
    "plt.xlabel(\"Time Step\")\n",
    "plt.ylabel(\"State\")\n",
    "plt.legend()\n",
    "plt.grid(True)\n",
    "\n",
    "# Plot the control input u\n",
    "plt.subplot(2, 1, 2)\n",
    "plt.plot(u_hist, label=\"Control Input\")\n",
    "plt.title(\"Control Input Evolution\")\n",
    "plt.axhline(y=u_max, color=\"r\", linestyle=\"--\", label=\"Constraint\")\n",
    "plt.axhline(y=u_min, color=\"r\", linestyle=\"--\")\n",
    "plt.xlabel(\"Time Step\")\n",
    "plt.ylabel(\"Control Input\")\n",
    "plt.legend()\n",
    "plt.grid(True)\n",
    "\n",
    "plt.tight_layout()\n",
    "plt.show()"
   ]
  },
  {
   "cell_type": "markdown",
   "metadata": {},
   "source": [
    "See ['3_1_pendulum.ipynb'](3_1_pendulum.ipynb) for an example where we linearise the dynamics as well as exlpore other factors to be aware of."
   ]
  },
  {
   "cell_type": "markdown",
   "metadata": {},
   "source": [
    "## Feasibility Theorem"
   ]
  },
  {
   "cell_type": "markdown",
   "metadata": {},
   "source": [
    "- P, Q and R are positive definite\n",
    "- $\\rho(A + BK_{RHC}) < 1$ \n",
    "- $ V(x, \\mathbf{u}) = x_N^T P x_N + \\sum^{N-1}_{i=0} (x_i^T Q x_i + u_i^T R u_i) $\n",
    "- $x_0 = x, \\quad x_{i+1} = Ax_i + Bu_i$\n",
    "- $M_i x_i + E_i u_i \\leq b_i \\quad \\text{for all } i = 0, 1, ..., N-1 \\quad M_N x_N \\leq b_N $"
   ]
  },
  {
   "cell_type": "markdown",
   "metadata": {},
   "source": [
    "S is an **invariant set** \n",
    "\n",
    "$$ S \\subset \\mathbb{R}^n$$\n",
    "\n",
    "for a system if\n",
    "\n",
    "$$x(0) \\in S \\implies f(x(k)) \\in S , \\forall k \\geq 0$$\n",
    "\n",
    "S is **constraint admissable** if \n",
    "\n",
    "$$(x, \\kappa(x)) \\in Z \\subset \\mathbb{R}^n \\times \\mathbb{R}^m,  \\forall x \\in S $$"
   ]
  },
  {
   "cell_type": "markdown",
   "metadata": {},
   "source": [
    "We finally construct \n",
    "\n",
    "$$S = \\{x \\in \\mathbb{R}^N : M_Nx \\leq b_N, \\quad (x, \\kappa(x)) \\in Z, \\quad f(x) \\in S \\}$$\n",
    "\n",
    "where\n",
    "\n",
    "$$ u = \\kappa(x) = Kx$$\n",
    "\n",
    "$$ f(x) = Ax+Bu $$\n",
    "\n",
    "$$ Z = \\{(x, u) : Mx + Eu \\leq b\\}"
   ]
  },
  {
   "cell_type": "markdown",
   "metadata": {},
   "source": [
    "Similarly to the unconstrained case we assume $u_N^* = Kx_N^*$ for the end of the horizon onwards.\n",
    "\n",
    "If $\\mathbf{u}^*(x)$ is feasible at time k, then the shifted sequence $\\tilde{\\mathbf{u}}(x)$ is feasible at time $k+1$ with the implementation of $u(k) = u^*_0(x)$ due to the choice of $M_N$ and $b_N$ as given by above. This acts as an upper-bound on the control problem."
   ]
  },
  {
   "cell_type": "markdown",
   "metadata": {},
   "source": [
    "## Stability Theorem"
   ]
  },
  {
   "cell_type": "markdown",
   "metadata": {},
   "source": [
    "**Stability Definition**:  $\\forall \\epsilon > 0, \\exists \\delta > 0 : |x(0)| < \\delta \\implies |x(k)| < \\epsilon, \\forall k > 0$\n",
    "\n",
    "**Asymptotic Stabiility** $\\implies \\epsilon \\rightarrow 0 \\text{ as } k \\rightarrow \\infty$\n",
    "\n",
    "**Lyapunov Function**: $V:S\\rightarrow \\mathbb{R} \\iff\n",
    "\\begin{cases}\n",
    "V(0) = 0 \\\\\n",
    "V(x) > 0, \\forall x \\in S, x \\neq 0 \\\\\n",
    "V(f(x)) - V(x) \\leq 0, \\forall x \\in S\n",
    "\\end{cases}$"
   ]
  },
  {
   "cell_type": "markdown",
   "metadata": {},
   "source": [
    "We propose there exists a Lyapunov function that exists with the region of attraction S based on the constraints and dynamics. If S is the whole space it is said to be globally asymptotically stable.\n",
    "\n",
    "It turns out that the proof is identical to the unconstrained case with the solution given by \n",
    "\n",
    "- $(A + BK)^T P(A + BK) - P \\leq -Q - K^TRK$"
   ]
  },
  {
   "cell_type": "markdown",
   "metadata": {},
   "source": [
    "# Constrained Infinite Horizon LQR"
   ]
  },
  {
   "cell_type": "markdown",
   "metadata": {},
   "source": [
    "$$V_\\infty^*(x) = \\min_u \\sum_{i=0}^{\\infty} x_i^T Q x_i + u_i^T R u_i$$\n",
    "\n",
    "\n",
    "$$\n",
    "\\text{subject to }\n",
    "x_0 = x , \\quad\n",
    "x_{i+1} = Ax_i + Bu_i ,\\quad\n",
    "Mx_i + Eu_i < b , \\quad \n",
    " \\forall i\n",
    "$$\n",
    "\n",
    "$$\\leq V^*(x) = \\min_u \\sum_{i=0}^{\\infty} x_i^T Q x_i + u_i^T R u_i = \\min_u \\sum_{i=0}^{N-1} x_i^T Q x_i + u_i^T R u_i + x_N^T P x_N$$\n",
    "\n",
    "$$\n",
    "\\text{subject to }\n",
    "x_0 = x ,\\quad\n",
    "x_{i+1} = Ax_i + Bu_i ,\\quad\n",
    "Mx_i + Eu_i < b \\;\\; \\forall i < N ,\\quad\n",
    "M_N x_N < b_N\n",
    "$$\n",
    "\n",
    "Where $P$ is the solution given by the **DARE**.\n",
    "\n",
    "Therefore we have provided evidence that the terminal constraints allows us to copmute the upper-bound of this infinite problem.\n"
   ]
  },
  {
   "cell_type": "markdown",
   "metadata": {},
   "source": [
    "Stability is now proved via\n",
    "\n",
    "$$V(Ax + Bu_0(x)) = \\min_u \\sum_{i=1}^{\\infty} x_i^T Q x_i + u_i^T R u_i + x_N^T P x_N$$\n",
    "\n",
    "$$\n",
    "< V(x) = \\min_u \\sum_{i=0}^{\\infty} x_i^T Q x_i + u_i^T R u_i + x_N^T P x_N\n",
    "$$\n",
    "\n",
    "$$\n",
    "\\text{subject to }\n",
    "x_1 = Ax + Bu_0(x) ,\\quad\n",
    "x_{i+1} = Ax_i + Bu_i ,\\quad\n",
    "Mx_i + Eu_i < b ,\\quad\n",
    "\\forall i ,\\quad\n",
    "M_N x_N < b_N \\quad\n",
    "$$"
   ]
  }
 ],
 "metadata": {
  "kernelspec": {
   "display_name": ".venv",
   "language": "python",
   "name": "python3"
  },
  "language_info": {
   "codemirror_mode": {
    "name": "ipython",
    "version": 3
   },
   "file_extension": ".py",
   "mimetype": "text/x-python",
   "name": "python",
   "nbconvert_exporter": "python",
   "pygments_lexer": "ipython3",
   "version": "3.12.7"
  }
 },
 "nbformat": 4,
 "nbformat_minor": 2
}
