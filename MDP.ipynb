{
 "cells": [
  {
   "cell_type": "markdown",
   "metadata": {},
   "source": [
    "Introduce MDP model\n",
    "\n",
    "Learning from samples\n",
    "\n",
    "Monte carlo methods\n",
    "\n",
    "Temporal Difference Methods\n",
    "\n",
    "Deep learning in this nb or explore it and distributed training in another?"
   ]
  }
 ],
 "metadata": {
  "language_info": {
   "name": "python"
  }
 },
 "nbformat": 4,
 "nbformat_minor": 2
}
